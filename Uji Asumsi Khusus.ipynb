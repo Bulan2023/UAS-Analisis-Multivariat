{
  "nbformat": 4,
  "nbformat_minor": 0,
  "metadata": {
    "colab": {
      "provenance": []
    },
    "kernelspec": {
      "name": "ir",
      "display_name": "R"
    },
    "language_info": {
      "name": "R"
    }
  },
  "cells": [
    {
      "cell_type": "code",
      "execution_count": 10,
      "metadata": {
        "colab": {
          "base_uri": "https://localhost:8080/"
        },
        "id": "y5uuKrdeH_G1",
        "outputId": "2ef42735-ca04-4fa3-875e-76142fced061"
      },
      "outputs": [
        {
          "output_type": "stream",
          "name": "stderr",
          "text": [
            "\n",
            "Attaching package: ‘GPArotation’\n",
            "\n",
            "\n",
            "The following objects are masked from ‘package:psych’:\n",
            "\n",
            "    equamax, varimin\n",
            "\n",
            "\n"
          ]
        },
        {
          "output_type": "stream",
          "name": "stdout",
          "text": [
            "🔹 Hasil Uji KMO:\n",
            "Kaiser-Meyer-Olkin factor adequacy\n",
            "Call: KMO(r = data)\n",
            "Overall MSA =  0.79\n",
            "MSA for each item = \n",
            "  X1   X2   X3 \n",
            "0.76 0.80 0.82 \n",
            "\n",
            "🔹 Hasil Uji Bartlett:\n",
            "$chisq\n",
            "[1] 125.9015\n",
            "\n",
            "$p.value\n",
            "[1] 4.132335e-27\n",
            "\n",
            "$df\n",
            "[1] 3\n",
            "\n",
            "\n",
            "🔹 Hasil MSA (Measure of Sampling Adequacy):\n",
            "[1] 0.7922365\n"
          ]
        }
      ],
      "source": [
        "# Install dan load package yang diperlukan\n",
        "if (!requireNamespace(\"psych\", quietly = TRUE)) install.packages(\"psych\")\n",
        "if (!requireNamespace(\"GPArotation\", quietly = TRUE)) install.packages(\"GPArotation\")\n",
        "\n",
        "library(psych)\n",
        "library(GPArotation)\n",
        "\n",
        "# Data\n",
        "X1 <- c(98,103,103,105,109,123,123,133,133,133,134,136,138,138,141,147,149,153,155,155,158,159,162,177)\n",
        "X2 <- c(81,84,86,86,88,92,95,99,102,102,100,102,98,99,105,108,107,107,115,117,115,118,124,132)\n",
        "X3 <- c(38,38,42,42,44,50,46,51,51,51,48,49,51,51,53,57,55,56,63,60,62,63,61,67)\n",
        "\n",
        "data <- data.frame(X1, X2, X3)\n",
        "\n",
        "# 1. Uji KMO\n",
        "kmo_result <- KMO(data)\n",
        "cat(\"🔹 Hasil Uji KMO:\\n\")\n",
        "print(kmo_result)\n",
        "\n",
        "# 2. Uji Bartlett\n",
        "bartlett_result <- cortest.bartlett(cor(data), n = nrow(data))\n",
        "cat(\"\\n🔹 Hasil Uji Bartlett:\\n\")\n",
        "print(bartlett_result)\n",
        "\n",
        "# 3. MSA (Measure of Sampling Adequacy)\n",
        "msa_result <- kmo_result$MSA\n",
        "cat(\"\\n🔹 Hasil MSA (Measure of Sampling Adequacy):\\n\")\n",
        "print(msa_result)\n"
      ]
    },
    {
      "cell_type": "code",
      "source": [
        "# Data\n",
        "X1 <- c(98,103,103,105,109,123,123,133,133,133,134,136,138,138,141,147,149,153,155,155,158,159,162,177)\n",
        "X2 <- c(81,84,86,86,88,92,95,99,102,102,100,102,98,99,105,108,107,107,115,117,115,118,124,132)\n",
        "X3 <- c(38,38,42,42,44,50,46,51,51,51,48,49,51,51,53,57,55,56,63,60,62,63,61,67)\n",
        "\n",
        "y1 <- log(X1)\n",
        "y2 <- log(X2)\n",
        "y3 <- log(X3)\n",
        "y <- data.frame(y1,y2,y3)\n",
        "Y <- y[10:20,]\n",
        "fit_pca <- princomp(Y, cor=FALSE)\n",
        "summary(fit_pca)\n",
        "loadings(fit_pca)\n",
        "plot(fit_pca, type=\"lines\")\n",
        "fit_pca$scores\n",
        "\n"
      ],
      "metadata": {
        "colab": {
          "base_uri": "https://localhost:8080/",
          "height": 1000
        },
        "id": "DvrqpXNpS2pm",
        "outputId": "4d22e2be-7381-4221-8927-f97e3a35feb0"
      },
      "execution_count": 8,
      "outputs": [
        {
          "output_type": "display_data",
          "data": {
            "text/plain": [
              "Importance of components:\n",
              "                          Comp.1     Comp.2     Comp.3\n",
              "Standard deviation     0.1103518 0.01935394 0.01675331\n",
              "Proportion of Variance 0.9489395 0.02918894 0.02187160\n",
              "Cumulative Proportion  0.9489395 0.97812840 1.00000000"
            ]
          },
          "metadata": {}
        },
        {
          "output_type": "display_data",
          "data": {
            "text/plain": [
              "\n",
              "Loadings:\n",
              "   Comp.1 Comp.2 Comp.3\n",
              "y1  0.488  0.609  0.625\n",
              "y2  0.479 -0.786  0.392\n",
              "y3  0.730  0.108 -0.675\n",
              "\n",
              "               Comp.1 Comp.2 Comp.3\n",
              "SS loadings     1.000  1.000  1.000\n",
              "Proportion Var  0.333  0.333  0.333\n",
              "Cumulative Var  0.333  0.667  1.000"
            ]
          },
          "metadata": {}
        },
        {
          "output_type": "display_data",
          "data": {
            "text/html": [
              "<table class=\"dataframe\">\n",
              "<caption>A matrix: 11 × 3 of type dbl</caption>\n",
              "<thead>\n",
              "\t<tr><th></th><th scope=col>Comp.1</th><th scope=col>Comp.2</th><th scope=col>Comp.3</th></tr>\n",
              "</thead>\n",
              "<tbody>\n",
              "\t<tr><th scope=row>10</th><td>-0.09095767</td><td>-0.026342298</td><td>-0.0228130679</td></tr>\n",
              "\t<tr><th scope=row>11</th><td>-0.14101515</td><td>-0.012753133</td><td> 0.0150443382</td></tr>\n",
              "\t<tr><th scope=row>12</th><td>-0.10925736</td><td>-0.017071278</td><td> 0.0181398736</td></tr>\n",
              "\t<tr><th scope=row>13</th><td>-0.09207752</td><td> 0.027568938</td><td>-0.0154172846</td></tr>\n",
              "\t<tr><th scope=row>14</th><td>-0.08721946</td><td> 0.019590612</td><td>-0.0114403254</td></tr>\n",
              "\t<tr><th scope=row>15</th><td>-0.02049013</td><td>-0.009407681</td><td>-0.0009203187</td></tr>\n",
              "\t<tr><th scope=row>16</th><td> 0.06643701</td><td> 0.001672410</td><td>-0.0129635545</td></tr>\n",
              "\t<tr><th scope=row>17</th><td> 0.04252074</td><td> 0.013362049</td><td> 0.0159553060</td></tr>\n",
              "\t<tr><th scope=row>18</th><td> 0.06860733</td><td> 0.031435967</td><td> 0.0203479559</td></tr>\n",
              "\t<tr><th scope=row>19</th><td> 0.19540281</td><td>-0.004623620</td><td>-0.0228146161</td></tr>\n",
              "\t<tr><th scope=row>20</th><td> 0.16804940</td><td>-0.023431966</td><td> 0.0168816935</td></tr>\n",
              "</tbody>\n",
              "</table>\n"
            ],
            "text/markdown": "\nA matrix: 11 × 3 of type dbl\n\n| <!--/--> | Comp.1 | Comp.2 | Comp.3 |\n|---|---|---|---|\n| 10 | -0.09095767 | -0.026342298 | -0.0228130679 |\n| 11 | -0.14101515 | -0.012753133 |  0.0150443382 |\n| 12 | -0.10925736 | -0.017071278 |  0.0181398736 |\n| 13 | -0.09207752 |  0.027568938 | -0.0154172846 |\n| 14 | -0.08721946 |  0.019590612 | -0.0114403254 |\n| 15 | -0.02049013 | -0.009407681 | -0.0009203187 |\n| 16 |  0.06643701 |  0.001672410 | -0.0129635545 |\n| 17 |  0.04252074 |  0.013362049 |  0.0159553060 |\n| 18 |  0.06860733 |  0.031435967 |  0.0203479559 |\n| 19 |  0.19540281 | -0.004623620 | -0.0228146161 |\n| 20 |  0.16804940 | -0.023431966 |  0.0168816935 |\n\n",
            "text/latex": "A matrix: 11 × 3 of type dbl\n\\begin{tabular}{r|lll}\n  & Comp.1 & Comp.2 & Comp.3\\\\\n\\hline\n\t10 & -0.09095767 & -0.026342298 & -0.0228130679\\\\\n\t11 & -0.14101515 & -0.012753133 &  0.0150443382\\\\\n\t12 & -0.10925736 & -0.017071278 &  0.0181398736\\\\\n\t13 & -0.09207752 &  0.027568938 & -0.0154172846\\\\\n\t14 & -0.08721946 &  0.019590612 & -0.0114403254\\\\\n\t15 & -0.02049013 & -0.009407681 & -0.0009203187\\\\\n\t16 &  0.06643701 &  0.001672410 & -0.0129635545\\\\\n\t17 &  0.04252074 &  0.013362049 &  0.0159553060\\\\\n\t18 &  0.06860733 &  0.031435967 &  0.0203479559\\\\\n\t19 &  0.19540281 & -0.004623620 & -0.0228146161\\\\\n\t20 &  0.16804940 & -0.023431966 &  0.0168816935\\\\\n\\end{tabular}\n",
            "text/plain": [
              "   Comp.1      Comp.2       Comp.3       \n",
              "10 -0.09095767 -0.026342298 -0.0228130679\n",
              "11 -0.14101515 -0.012753133  0.0150443382\n",
              "12 -0.10925736 -0.017071278  0.0181398736\n",
              "13 -0.09207752  0.027568938 -0.0154172846\n",
              "14 -0.08721946  0.019590612 -0.0114403254\n",
              "15 -0.02049013 -0.009407681 -0.0009203187\n",
              "16  0.06643701  0.001672410 -0.0129635545\n",
              "17  0.04252074  0.013362049  0.0159553060\n",
              "18  0.06860733  0.031435967  0.0203479559\n",
              "19  0.19540281 -0.004623620 -0.0228146161\n",
              "20  0.16804940 -0.023431966  0.0168816935"
            ]
          },
          "metadata": {}
        },
        {
          "output_type": "display_data",
          "data": {
            "text/plain": [
              "Plot with title “fit_pca”"
            ],
            "image/png": "[encoded data removed]"
          },
          "metadata": {
            "image/png": {
              "width": 420,
              "height": 420
            }
          }
        }
      ]
    }
  ]
}